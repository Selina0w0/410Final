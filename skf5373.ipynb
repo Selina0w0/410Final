{
 "cells": [
  {
   "cell_type": "code",
   "execution_count": null,
   "id": "b9ba8aca-7cac-464f-a1d5-693bc319345b",
   "metadata": {},
   "outputs": [],
   "source": [
    "import pyspark\n",
    "import sparktorch\n",
    "import os\n",
    "import requests\n",
    "import torch\n",
    "import subprocess"
   ]
  },
  {
   "cell_type": "code",
   "execution_count": null,
   "id": "0b5e905a-b7e4-4995-ae5b-acd8aa07104f",
   "metadata": {},
   "outputs": [],
   "source": [
    "from sparktorch import SparkTorch, create_spark_torch_model, serialize_torch_obj, PysparkPipelineWrapper\n",
    "import torch.nn as nn\n",
    "from pyspark.sql import SparkSession\n",
    "from pyspark.sql.functions import rand\n",
    "from pyspark.ml.evaluation import MulticlassClassificationEvaluator\n",
    "from pyspark.ml.pipeline import Pipeline, PipelineModel\n",
    "from pyspark.ml.feature import VectorAssembler\n",
    "from cnn_network import Net"
   ]
  },
  {
   "cell_type": "code",
   "execution_count": null,
   "id": "80089232-218e-47af-94f8-671fce4a8412",
   "metadata": {},
   "outputs": [],
   "source": [
    "spark = SparkSession.builder.master(\"local\").appName(\"Final\").getOrCreate()"
   ]
  },
  {
   "cell_type": "code",
   "execution_count": null,
   "id": "2fe1e474-ddbe-4217-954a-0364e487c51b",
   "metadata": {},
   "outputs": [],
   "source": [
    "script_dir = os.path.dirname(os.path.abspath(\"skf5373.ipynb\"))\n",
    "dataset_url = \"https://raw.githubusercontent.com/dmmiller612/sparktorch/master/examples/mnist_train.csv\"\n",
    "dataset_path = os.path.join(script_dir, \"mnist_train.csv\")\n",
    "\n",
    "if not os.path.exists(dataset_path):\n",
    "    subprocess.run(['wget', dataset_url, '-O', dataset_path])"
   ]
  },
  {
   "cell_type": "code",
   "execution_count": null,
   "id": "506a7513-b1c3-4d2e-88fb-830ae5782b7d",
   "metadata": {},
   "outputs": [],
   "source": [
    "df = spark.read.option(\"inferSchema\", \"true\").csv(dataset_path).orderBy(rand()).repartition(2)\n",
    "network = Net()"
   ]
  },
  {
   "cell_type": "code",
   "execution_count": null,
   "id": "c97061b5-6224-44eb-a741-3ed0c067c139",
   "metadata": {},
   "outputs": [],
   "source": [
    "# Build the pytorch object\n",
    "torch_obj = serialize_torch_obj(\n",
    "    model=network,\n",
    "    criterion=nn.CrossEntropyLoss(),\n",
    "    optimizer=torch.optim.Adam,\n",
    "    lr=0.001\n",
    ")"
   ]
  },
  {
   "cell_type": "code",
   "execution_count": null,
   "id": "05f601ef-4bc9-45b5-b1ae-042778d56c0c",
   "metadata": {},
   "outputs": [],
   "source": [
    "# Setup features\n",
    "vector_assembler = VectorAssembler(inputCols=df.columns[1:785], outputCol='features')"
   ]
  },
  {
   "cell_type": "code",
   "execution_count": null,
   "id": "a4014f55-d36e-4c10-beae-d24102243b16",
   "metadata": {},
   "outputs": [],
   "source": [
    "spark_model = SparkTorch(\n",
    "    inputCol='features',\n",
    "    labelCol='_c0',\n",
    "    predictionCol='predictions',\n",
    "    torchObj=torch_obj,\n",
    "    iters=50,\n",
    "    verbose=1,\n",
    "    validationPct=0.2,\n",
    "    miniBatch=128\n",
    ")"
   ]
  },
  {
   "cell_type": "code",
   "execution_count": null,
   "id": "0d2945e8-5bed-40db-a602-f837490dd7e4",
   "metadata": {},
   "outputs": [],
   "source": [
    "# Create and save the Pipeline\n",
    "p = Pipeline(stages=[vector_assembler, spark_model]).fit(df)\n",
    "p.write().overwrite().save('cnn')"
   ]
  },
  {
   "cell_type": "code",
   "execution_count": null,
   "id": "c0aa12b7-9a75-49c2-b2c3-da45d2ccad8f",
   "metadata": {},
   "outputs": [],
   "source": [
    "# Example of loading the pipeline\n",
    "loaded_pipeline = PysparkPipelineWrapper.unwrap(PipelineModel.load('cnn'))"
   ]
  },
  {
   "cell_type": "code",
   "execution_count": null,
   "id": "4620214c-2ce0-4864-ab19-f1d9c61da400",
   "metadata": {},
   "outputs": [],
   "source": [
    "# Run predictions and evaluation\n",
    "predictions = loaded_pipeline.transform(df).persist()\n",
    "\n",
    "evaluator = MulticlassClassificationEvaluator(\n",
    "    labelCol=\"_c0\", predictionCol=\"predictions\", metricName=\"accuracy\")\n",
    "\n",
    "accuracy = evaluator.evaluate(predictions)\n",
    "print(\"Train accuracy = %g\" % accuracy)"
   ]
  },
  {
   "cell_type": "code",
   "execution_count": null,
   "id": "e3c5664f-09d3-4c29-9f00-c76d4a7bf480",
   "metadata": {},
   "outputs": [],
   "source": [
    "spark.stop()"
   ]
  },
  {
   "cell_type": "code",
   "execution_count": null,
   "id": "b98230be-7359-457b-9c98-2ab9a7f7ff49",
   "metadata": {},
   "outputs": [],
   "source": []
  }
 ],
 "metadata": {
  "kernelspec": {
   "display_name": "Python (ds410_sp24)",
   "language": "python",
   "name": "ds410_sp24"
  },
  "language_info": {
   "codemirror_mode": {
    "name": "ipython",
    "version": 3
   },
   "file_extension": ".py",
   "mimetype": "text/x-python",
   "name": "python",
   "nbconvert_exporter": "python",
   "pygments_lexer": "ipython3",
   "version": "3.8.8"
  }
 },
 "nbformat": 4,
 "nbformat_minor": 5
}
